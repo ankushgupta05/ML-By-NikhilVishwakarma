{
 "cells": [
  {
   "cell_type": "markdown",
   "id": "407d4fd0-2dc2-411d-8d17-e46c9ac5bb7b",
   "metadata": {},
   "source": [
    "# Gradient Descendent Algorithm"
   ]
  },
  {
   "cell_type": "code",
   "execution_count": 2,
   "id": "d85aae8a-6e47-4217-b3ad-abb0ae439fb3",
   "metadata": {},
   "outputs": [],
   "source": [
    "import numpy as np\n",
    "import matplotlib.pyplot as plt"
   ]
  },
  {
   "cell_type": "code",
   "execution_count": 13,
   "id": "c030a2cb-625c-4c3c-b789-5aabf9baf145",
   "metadata": {},
   "outputs": [],
   "source": [
    "%matplotlib inline\n",
    "def gradient_descent(x,y):\n",
    "    m_curr = b_curr = 0\n",
    "    rate = 0.01\n",
    "    n = len(x)\n",
    "    # plt.scatter(x,y,color='red',marker='+',linewidth='5')\n",
    "    # plt.show()\n",
    "    for i in range(100):\n",
    "        y_predicted = m_curr * x + b_curr\n",
    "        # print (m_curr,b_curr, i)\n",
    "        plt.plot(x,y_predicted,color='green')\n",
    "        md = -(2/n)*sum(x*(y-y_predicted))\n",
    "        yd = -(2/n)*sum(y-y_predicted)\n",
    "        m_curr = m_curr - rate * md\n",
    "        b_curr = b_curr - rate * yd\n",
    "    plt.show()\n",
    "        "
   ]
  },
  {
   "cell_type": "code",
   "execution_count": 14,
   "id": "4bcd98b5-f549-440b-b8ab-b8be87c0ee74",
   "metadata": {},
   "outputs": [],
   "source": [
    "x = np.array([1,2,3,4,5])\n",
    "y = np.array([5,7,9,11,13])"
   ]
  },
  {
   "cell_type": "code",
   "execution_count": null,
   "id": "8bee28c3-6193-4baa-bff9-411102575741",
   "metadata": {},
   "outputs": [],
   "source": [
    "gradient_descent(x,y)"
   ]
  },
  {
   "cell_type": "code",
   "execution_count": null,
   "id": "4d9a1951-2012-4bfa-b988-c29a636390c8",
   "metadata": {},
   "outputs": [],
   "source": []
  }
 ],
 "metadata": {
  "kernelspec": {
   "display_name": "anaconda-ai-2023-11",
   "language": "python",
   "name": "conda-env-anaconda-ai-2023-11-py"
  },
  "language_info": {
   "codemirror_mode": {
    "name": "ipython",
    "version": 3
   },
   "file_extension": ".py",
   "mimetype": "text/x-python",
   "name": "python",
   "nbconvert_exporter": "python",
   "pygments_lexer": "ipython3",
   "version": "3.10.13"
  }
 },
 "nbformat": 4,
 "nbformat_minor": 5
}
